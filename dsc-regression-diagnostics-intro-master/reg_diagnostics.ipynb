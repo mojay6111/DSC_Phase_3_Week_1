{
 "cells": [
  {
   "cell_type": "markdown",
   "metadata": {},
   "source": [
    "# Regression Diagnostics - Introduction"
   ]
  },
  {
   "cell_type": "markdown",
   "metadata": {},
   "source": [
    "## Introduction\n",
    "\n",
    "In addition to model evaluation and coefficient interpretation, regression diagnostics will allow you to level up your modeling abilities. This means applying techniques to \"diagnose\" why a model is underperforming, then \"treat\" the problem using an appropriate technique."
   ]
  },
  {
   "cell_type": "markdown",
   "metadata": {},
   "source": [
    "## Model Transformations\n",
    "\n",
    "These techniques are the \"treatments\" for problems with your model. First we'll go over the different types of transformations, how to apply them, and how they impact the modeling results.\n",
    "\n",
    "### Linear Transformations\n",
    "\n",
    "Linear transformations include ***scaling*** a variable to change its units, ***shifting*** a variable to change its mean, and ***normalization*** and ***standardization*** which combine both scaling and shifting.\n",
    "\n",
    "These transformations change the distributions of the variables and therefore also the interpretation of the coefficients, but are still part of a regular linear regression process.\n",
    "\n",
    "### Extensions to Linear Models\n",
    "\n",
    "Unfortunately, not every continuous variable can be predicted effectively using a straight line (a linear model). The goal of these kinds of transformations is to transform the variables in a non-linear way so that the relationship between the transformed variables is linear.\n",
    "\n",
    "Extensions to linear models include ***log transformations***, ***interaction terms*** (for when two or more variables interact in a non-additive manner), and ***polynomial regression*** (bringing in higher powers of variables -- squared, cubed, etc.)."
   ]
  },
  {
   "cell_type": "markdown",
   "metadata": {},
   "source": [
    "## Linear Regression Assumptions\n",
    "\n",
    "Most often the reason that you will need to apply one of the transformations described above is that you have \"diagnosed\" a model as violating one of the assumptions of linear regression.\n",
    "\n",
    "We'll use the acronym ***LINE*** to describe these assumptions. This is also a helpful device for memorizing the assumptions, since this question sometimes comes up in technical interviews!\n",
    "\n",
    "The assumptions of linear regression are:\n",
    "\n",
    "#### L: Linearity\n",
    "#### I: Independence\n",
    "#### N: Normality\n",
    "#### E: Equal Variance (Homoscedasticity)\n",
    "\n",
    "For each assumption we'll go over what it means, how to assess whether the assumption is being met (using graphs as well as statistical tests), and how to apply transformations to address assumption violations."
   ]
  },
  {
   "cell_type": "markdown",
   "metadata": {},
   "source": [
    "## Summary\n",
    "\n",
    "It's time to start learning some more advanced regression techniques!"
   ]
  }
 ],
 "metadata": {
  "kernelspec": {
   "display_name": "base",
   "language": "python",
   "name": "python3"
  },
  "language_info": {
   "codemirror_mode": {
    "name": "ipython",
    "version": 3
   },
   "file_extension": ".py",
   "mimetype": "text/x-python",
   "name": "python",
   "nbconvert_exporter": "python",
   "pygments_lexer": "ipython3",
   "version": "3.11.7"
  },
  "toc": {
   "base_numbering": 1,
   "nav_menu": {},
   "number_sections": true,
   "sideBar": true,
   "skip_h1_title": false,
   "title_cell": "Table of Contents",
   "title_sidebar": "Contents",
   "toc_cell": false,
   "toc_position": {},
   "toc_section_display": true,
   "toc_window_display": false
  }
 },
 "nbformat": 4,
 "nbformat_minor": 2
}
