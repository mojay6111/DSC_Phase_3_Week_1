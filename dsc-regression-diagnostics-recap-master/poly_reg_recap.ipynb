{
 "cells": [
  {
   "cell_type": "markdown",
   "metadata": {},
   "source": [
    "# Regression Diagnostics - Recap\n",
    "\n",
    "## Introduction\n",
    "\n",
    "In this section you extended your knowledge of building regression models by transforming the features and identifying ways that your model might be violating the assumptions of linear regression."
   ]
  },
  {
   "cell_type": "markdown",
   "metadata": {},
   "source": [
    "## Key Takeaways\n",
    "\n",
    "* ***Feature transformations*** can be linear or non-linear\n",
    "  * ***Linear transformations*** include scaling and shifting. They are mainly useful for making your model more interpretable\n",
    "  * ***Non-linear transformations*** include log transformations, interaction terms, and polynomial regression. These tend to make the resulting model more difficult to interpret, but can help create variables that better fit the assumptions of linear regression\n",
    "* Linear regression, like any other statistical test, is based on ***assumptions*** about the data and the relationships between the variables\n",
    "  * These assumptions can be remembered using the LINE acronym: ***linearity***, ***independence***, ***normality***, and ***equal variance (homoscedasticity)***\n",
    "  * Each assumption can be investigated using ***visualizations*** as well as ***statistical tests***\n",
    "  * Non-linear transformations and/or choosing different features may help improve how well your model meets the linear regression assumptions"
   ]
  },
  {
   "cell_type": "markdown",
   "metadata": {},
   "source": []
  }
 ],
 "metadata": {
  "kernelspec": {
   "display_name": "Python (learn-env)",
   "language": "python",
   "name": "learn-env"
  },
  "language_info": {
   "codemirror_mode": {
    "name": "ipython",
    "version": 3
   },
   "file_extension": ".py",
   "mimetype": "text/x-python",
   "name": "python",
   "nbconvert_exporter": "python",
   "pygments_lexer": "ipython3",
   "version": "3.8.5"
  }
 },
 "nbformat": 4,
 "nbformat_minor": 2
}
