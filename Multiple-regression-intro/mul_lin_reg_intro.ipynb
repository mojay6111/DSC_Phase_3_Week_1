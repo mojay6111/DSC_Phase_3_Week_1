{
 "cells": [
  {
   "cell_type": "markdown",
   "metadata": {},
   "source": [
    "# Multiple Linear Regression - Introduction\n",
    "\n",
    "## Introduction\n",
    "\n",
    "In this section, you'll start to see more advanced regression models which employ multiple predictors.\n",
    "\n",
    "## Multiple Linear Regression\n",
    "\n",
    "In the last section, you learned how to perform a basic linear regression with a single predictor variable. Here, you'll explore how to perform linear regressions using **multiple** independent variables to better predict a target variable. After learning the conceptual basics, you'll learn how to build these models using StatsModels.\n",
    "\n",
    "## Multiple Regression Model Evaluation and Interpretation\n",
    "\n",
    "As models become more complex, so does the process of evaluating the model performance overall, as well as the process of interpreting the model coefficients. We'll walk through the concepts as well as how to use statistical libraries to perform this evaluation and interpretation.\n",
    "\n",
    "## Iteration in the Modeling Process\n",
    "\n",
    "### Improving a Baseline Model\n",
    "\n",
    "Often, a simple linear regression can be used as a \"baseline model\" upon which new features can be added to improve the predictions.  Any decisions on how to change features should be compared against a simpler model to see if the changes have improved the model or not. This section will give an introduction to many of the techniques which can improve a regression model.\n",
    "\n",
    "### Dealing with Categorical Variables\n",
    "\n",
    "Up to this point you've only seen continuous predictor variables. Here, you'll get a further look at how to identify and then transform categorical variables to utilize them as predictors of our target variable.\n",
    "\n",
    "## Summary\n",
    "\n",
    "In this section, you'll continue to bolster your understanding of linear regression so that you can solve a wider range of problems more accurately. Many of the principles covered in this section will also apply in later modules as you move onto working with other machine learning models."
   ]
  }
 ],
 "metadata": {
  "kernelspec": {
   "display_name": "base",
   "language": "python",
   "name": "python3"
  },
  "language_info": {
   "codemirror_mode": {
    "name": "ipython",
    "version": 3
   },
   "file_extension": ".py",
   "mimetype": "text/x-python",
   "name": "python",
   "nbconvert_exporter": "python",
   "pygments_lexer": "ipython3",
   "version": "3.11.7"
  }
 },
 "nbformat": 4,
 "nbformat_minor": 2
}
